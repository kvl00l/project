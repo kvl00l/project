{
 "cells": [
  {
   "cell_type": "markdown",
   "metadata": {},
   "source": [
    "# Bonus Project: Analyzing Monthly Sales Data"
   ]
  },
  {
   "cell_type": "markdown",
   "metadata": {},
   "source": [
    "## Objective ##\n",
    "Analyze a dataset of monthly sales to understand sales trends and create a basic plot using Python."
   ]
  },
  {
   "cell_type": "markdown",
   "metadata": {},
   "source": [
    "## Dataset ##\n",
    "We'll use a simple CSV file named monthly_sales.csv with the following columns:\n",
    "- Month: The month of the year (e.g., \"January\", \"February\", etc.)\n",
    "- Sales: The total sales for that mont"
   ]
  },
  {
   "cell_type": "code",
   "execution_count": null,
   "metadata": {},
   "outputs": [],
   "source": [
    "df = pd"
   ]
  }
 ],
 "metadata": {
  "language_info": {
   "name": "python"
  }
 },
 "nbformat": 4,
 "nbformat_minor": 2
}

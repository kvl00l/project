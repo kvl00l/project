{
 "cells": [
  {
   "cell_type": "markdown",
   "metadata": {},
   "source": [
    "# Bonus Project: Analyzing Monthly Sales Data"
   ]
  },
  {
   "cell_type": "markdown",
   "metadata": {},
   "source": [
<<<<<<< HEAD
    "## Objective\n",
=======
    "## Objective ##\n",
>>>>>>> f7b09338ab2d747a7312973af2941b3a86e12706
    "Analyze a dataset of monthly sales to understand sales trends and create a basic plot using Python."
   ]
  },
  {
   "cell_type": "markdown",
   "metadata": {},
   "source": [
<<<<<<< HEAD
    "## Dataset \n",
=======
    "## Dataset ##\n",
>>>>>>> f7b09338ab2d747a7312973af2941b3a86e12706
    "We'll use a simple CSV file named monthly_sales.csv with the following columns:\n",
    "- Month: The month of the year (e.g., \"January\", \"February\", etc.)\n",
    "- Sales: The total sales for that mont"
   ]
  },
  {
<<<<<<< HEAD
   "cell_type": "markdown",
   "metadata": {},
   "source": [
    "## Instruction"
   ]
  },
  {
   "cell_type": "markdown",
   "metadata": {},
   "source": [
    "### 1. Download and Import the Required Libraries:\n",
    "- Download the provided monthly_sales.csvfile and place it in the working directory.\n"
   ]
  },
  {
   "cell_type": "code",
   "execution_count": 1,
   "metadata": {},
   "outputs": [],
   "source": [
    "import pandas as pd\n",
    "import matplotlib.pyplot as plt\n",
    "import numpy as np"
   ]
  },
  {
   "cell_type": "markdown",
   "metadata": {},
   "source": [
    "### 2. Load the Dataset\n",
    "- Load the data into a Pandas DataFrame."
   ]
  },
  {
   "cell_type": "code",
   "execution_count": 2,
   "metadata": {},
   "outputs": [],
   "source": [
    "df = pd.read_csv('monthly_sales.csv')"
   ]
  },
  {
   "cell_type": "markdown",
   "metadata": {},
   "source": [
    "### 3. Data Exploration\n",
    "\n",
    "In this step we want to know the data structure."
=======
   "cell_type": "code",
   "execution_count": null,
   "metadata": {},
   "outputs": [],
   "source": [
    "df = pd"
>>>>>>> f7b09338ab2d747a7312973af2941b3a86e12706
   ]
  }
 ],
 "metadata": {
<<<<<<< HEAD
  "kernelspec": {
   "display_name": "Python 3",
   "language": "python",
   "name": "python3"
  },
  "language_info": {
   "codemirror_mode": {
    "name": "ipython",
    "version": 3
   },
   "file_extension": ".py",
   "mimetype": "text/x-python",
   "name": "python",
   "nbconvert_exporter": "python",
   "pygments_lexer": "ipython3",
   "version": "3.11.9"
=======
  "language_info": {
   "name": "python"
>>>>>>> f7b09338ab2d747a7312973af2941b3a86e12706
  }
 },
 "nbformat": 4,
 "nbformat_minor": 2
}
